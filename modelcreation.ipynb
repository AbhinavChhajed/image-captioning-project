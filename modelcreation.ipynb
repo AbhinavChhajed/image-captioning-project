{
 "cells": [
  {
   "cell_type": "code",
   "execution_count": 17,
   "id": "eaf51abb",
   "metadata": {},
   "outputs": [],
   "source": [
    "#import libraries\n",
    "import tensorflow as tf\n",
    "from tensorflow import keras\n",
    "from tensorflow.keras.applications import EfficientNetB3\n",
    "from tensorflow.keras.applications.efficientnet import preprocess_input\n",
    "from tensorflow.keras.preprocessing import image\n",
    "from tensorflow.keras.layers import TextVectorization"
   ]
  },
  {
   "cell_type": "code",
   "execution_count": 18,
   "id": "606d040b",
   "metadata": {},
   "outputs": [],
   "source": [
    "#load dataset"
   ]
  },
  {
   "cell_type": "code",
   "execution_count": 19,
   "id": "7fbeada8",
   "metadata": {},
   "outputs": [],
   "source": [
    "#image model (encoder)\n",
    "encoder = EfficientNetB3(include_top=False,pooling='avg')\n",
    "encoder.trainable = False\n",
    "max_token = 10000\n",
    "max_length = 30\n",
    "vectorizer = TextVectorization(max_tokens=max_token, output_sequence_length=max_length+1)"
   ]
  },
  {
   "cell_type": "code",
   "execution_count": null,
   "id": "36e23487",
   "metadata": {},
   "outputs": [],
   "source": [
    "#feature pre processing\n"
   ]
  }
 ],
 "metadata": {
  "kernelspec": {
   "display_name": "Python 3",
   "language": "python",
   "name": "python3"
  },
  "language_info": {
   "codemirror_mode": {
    "name": "ipython",
    "version": 3
   },
   "file_extension": ".py",
   "mimetype": "text/x-python",
   "name": "python",
   "nbconvert_exporter": "python",
   "pygments_lexer": "ipython3",
   "version": "3.12.2"
  }
 },
 "nbformat": 4,
 "nbformat_minor": 5
}
